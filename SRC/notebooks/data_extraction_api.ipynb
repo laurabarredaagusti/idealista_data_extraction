{
 "cells": [
  {
   "cell_type": "code",
   "execution_count": null,
   "metadata": {},
   "outputs": [],
   "source": [
    "# The first step to obtain the data, is to request the API client and secret from Idealista. \n",
    "# It can be done here: https://developers.idealista.com/access-request"
   ]
  },
  {
   "cell_type": "code",
   "execution_count": null,
   "metadata": {},
   "outputs": [],
   "source": [
    "# Once we have our credentials, we can start creating a function to generate our personalised token, which will \n",
    "# give us authorisation to extract data."
   ]
  },
  {
   "cell_type": "code",
   "execution_count": 21,
   "metadata": {},
   "outputs": [],
   "source": [
    "# Import the necessary libraries\n",
    "\n",
    "import base64\n",
    "import requests as rq\n",
    "import json"
   ]
  },
  {
   "cell_type": "code",
   "execution_count": 23,
   "metadata": {},
   "outputs": [],
   "source": [
    "# Define a function in order to obtain our personalised token\n",
    "\n",
    "def get_oauth_token():\n",
    "    '''\n",
    "    This function will return our personalised token\n",
    "    '''\n",
    "    api_key = 'your api key'   # Your API key provided by Idealista\n",
    "    secret = 'your secret'   # Your secred code provided by Idealista\n",
    "\n",
    "    message = api_key + \":\" + secret   # Combine the API key and the secret to get our personalised message\n",
    "\n",
    "    auth = \"Basic \" + base64.b64encode(message.encode(\"ascii\")).decode(\"ascii\")   # Encode the message\n",
    "\n",
    "    headers_dic = {\"Authorization\" : auth,\n",
    "                   \"Content-Type\" : \"application/x-www-form-urlencoded;charset=UTF-8\"}   # Define our headers\n",
    "\n",
    "    params_dic = {\"grant_type\" : \"client_credentials\",   # Define the request params\n",
    "                  \"scope\" : \"read\"}\n",
    "\n",
    "    r = rq.post(\"https://api.idealista.com/oauth/token\",   # Perform the request with the api url, headers and params\n",
    "                      headers = headers_dic,\n",
    "                      params = params_dic)\n",
    "\n",
    "    token = json.loads(r.text)['access_token']   # Obtain the personalised token, as a json\n",
    "\n",
    "    return token"
   ]
  },
  {
   "cell_type": "code",
   "execution_count": 29,
   "metadata": {},
   "outputs": [],
   "source": [
    "# The next step will be to define the search url. We will do this by defining the filter params of the search, \n",
    "# and combining them into the resulting url."
   ]
  },
  {
   "cell_type": "code",
   "execution_count": 20,
   "metadata": {},
   "outputs": [],
   "source": [
    "# This are the params we will use to filter our search\n",
    "\n",
    "base_url = 'https://api.idealista.com/3.5/'     # Base search url\n",
    "country = 'es'     # Search country (es, it, pt)                          \n",
    "language = 'es'     # Search language (es, it, pt, en, ca) \n",
    "max_items = '50'     # Max items per call, the maximum set by Idealista is 50\n",
    "operation = 'rent'     # Kind of operation (sale, rent) \n",
    "property_type = 'homes'     # Type of property (homes, offices, premises, garages, bedrooms)\n",
    "order = 'priceDown'     # Order of the listings, consult documentation for all the available orders \n",
    "center = '40.4167,-3.70325'     # Coordinates of the search center\n",
    "distance = '60000'     # Max distance from the center\n",
    "sort = 'desc'     # How to sort the found items\n",
    "bankOffer = 'false'     # If the owner is a bank\n",
    "maxprice = '750'     # Max price of the listings"
   ]
  },
  {
   "cell_type": "code",
   "execution_count": null,
   "metadata": {},
   "outputs": [],
   "source": [
    "# Define a function to obtain our search url\n",
    "\n",
    "def define_search_url():\n",
    "    '''\n",
    "    This function will combine our params with the url, in order to create our own search url\n",
    "    '''\n",
    "    url = (base_url +      \n",
    "           country +\n",
    "           '/search?operation=' + operation +\n",
    "           '&maxItems=' + max_items +\n",
    "           '&order=' + order +\n",
    "           '&center=' + center +\n",
    "           '&distance=' + distance +\n",
    "           '&propertyType=' + property_type +\n",
    "           '&sort=' + sort + \n",
    "           '&numPage=%s' +\n",
    "           '&maxPrice=' + maxprice +\n",
    "           '&language=' + language)\n",
    "    \n",
    "    return url"
   ]
  },
  {
   "cell_type": "code",
   "execution_count": null,
   "metadata": {},
   "outputs": [],
   "source": [
    "url = define_search_url()"
   ]
  },
  {
   "cell_type": "code",
   "execution_count": 30,
   "metadata": {},
   "outputs": [],
   "source": [
    "# Now we need to create a function in order to do our search, with the data we already have."
   ]
  },
  {
   "cell_type": "code",
   "execution_count": null,
   "metadata": {},
   "outputs": [],
   "source": [
    "def search_api(url):  \n",
    "    '''\n",
    "    This function will use the token and url created previously, and return our search results.\n",
    "    '''\n",
    "    token = get_oauth_token()   #  Get the personalised token\n",
    "\n",
    "    headers = {'Content-Type': 'Content-Type: multipart/form-data;',   # Define the search headers \n",
    "               'Authorization' : 'Bearer ' + token}\n",
    "\n",
    "    content = rq.post(url, headers = headers)   # Return the content from the request\n",
    "\n",
    "    result = json.loads(content.text)   # Transform the result as a json file\n",
    "\n",
    "    return result"
   ]
  },
  {
   "cell_type": "code",
   "execution_count": null,
   "metadata": {},
   "outputs": [],
   "source": [
    "# Since we need to give pagination to our search and this is our first search, we will set the pagination as 1\n",
    "pagination = 1\n",
    "first_search_url = url %(pagination)"
   ]
  },
  {
   "cell_type": "code",
   "execution_count": null,
   "metadata": {},
   "outputs": [],
   "source": [
    "# Proceed to do the search with the paginated url\n",
    "results = search_api(first_search_url)"
   ]
  },
  {
   "cell_type": "code",
   "execution_count": 28,
   "metadata": {},
   "outputs": [],
   "source": [
    "# We have already gotten all the results, so we can start working in them."
   ]
  },
  {
   "cell_type": "code",
   "execution_count": null,
   "metadata": {},
   "outputs": [],
   "source": [
    "# First of all, we can extract 50 results/page, but there are more pages, so we have to define how many pages there are.\n",
    "\n",
    "total_pages = results['totalPages']"
   ]
  },
  {
   "cell_type": "code",
   "execution_count": 25,
   "metadata": {},
   "outputs": [],
   "source": [
    "# We can also save our first dataset. We will save it as an individual dataframe, but then we have to add it to a \n",
    "# bigger dataset, which will contains all our individual dataframes.\n",
    "\n",
    "# We will create two functions for that."
   ]
  },
  {
   "cell_type": "code",
   "execution_count": null,
   "metadata": {},
   "outputs": [],
   "source": [
    "# Import the necessary libraries\n",
    "\n",
    "import pandas as pd"
   ]
  },
  {
   "cell_type": "code",
   "execution_count": null,
   "metadata": {},
   "outputs": [],
   "source": [
    "def results_to_df(results):\n",
    "    '''\n",
    "    This function will save the json results as a dataframe and return the resulting dataframe\n",
    "    '''\n",
    "    df = pd.DataFrame.from_dict(results['elementList'])\n",
    "\n",
    "    return df"
   ]
  },
  {
   "cell_type": "code",
   "execution_count": null,
   "metadata": {},
   "outputs": [],
   "source": [
    "def concat_df(df, df_tot):\n",
    "    '''\n",
    "    This function will take the main dataframe (df_tot), and concat it with the given individual dataframe, \n",
    "    returning the main dataframe \n",
    "    '''\n",
    "    pd.concat([df_tot,df])\n",
    "    \n",
    "    return df_tot"
   ]
  },
  {
   "cell_type": "code",
   "execution_count": null,
   "metadata": {},
   "outputs": [],
   "source": [
    "# Proceed to save the obtained results as a dataframe\n",
    "df = results_to_df(results)"
   ]
  },
  {
   "cell_type": "code",
   "execution_count": null,
   "metadata": {},
   "outputs": [],
   "source": [
    "# Since we still don't have a main dataframe where we can store all the data, we will create an empty dataframe\n",
    "df_tot = pd.DataFrame()\n",
    "df_tot = concat_df(df, df_tot)"
   ]
  },
  {
   "cell_type": "code",
   "execution_count": null,
   "metadata": {},
   "outputs": [],
   "source": [
    "# At this point, we have all the necessary code to extract the data, but we need to extract data in\n",
    "# all the pages of the results. For this, we will create a loop, which will perform a search in every of the pages"
   ]
  },
  {
   "cell_type": "code",
   "execution_count": null,
   "metadata": {},
   "outputs": [],
   "source": [
    "# This will loop over all the pages in the search results. It start from 2, because we've already gotten the first page\n",
    "for i in range(2, total_pages): \n",
    "\n",
    "    url = url %(i)   # Add the pagination to the url\n",
    "    results = search_api(url)   # Get the search results\n",
    "    df = results_to_df(results)   # Save the results as a dataframe\n",
    "    df_tot = concat_df(df, df_tot)   # Concat the results to the main dataframe"
   ]
  },
  {
   "cell_type": "code",
   "execution_count": 31,
   "metadata": {},
   "outputs": [],
   "source": [
    "# Once we have all our data, we just need to save it as a csv file, we have created the following function for that:\n",
    "\n",
    "file_path = 'idealista.csv'\n",
    "\n",
    "def df_to_csv(df):\n",
    "    '''\n",
    "    This function will take a given dataframe and save it as a csv file\n",
    "    '''\n",
    "    df = df.reset_index()   # Reset the index in order to organise the records\n",
    "    df.to_csv(file_path, index=False)   # Save it into a csv"
   ]
  },
  {
   "cell_type": "code",
   "execution_count": null,
   "metadata": {},
   "outputs": [],
   "source": [
    "# Run the function and you'll obtain a csv file with all the extracted data\n",
    "df_to_csv(df_tot)"
   ]
  },
  {
   "cell_type": "code",
   "execution_count": null,
   "metadata": {},
   "outputs": [],
   "source": [
    "# Idealista API has a limitation of 100 search queries/month, so this should be taken into \n",
    "# consideration when performing the search queries"
   ]
  }
 ],
 "metadata": {
  "kernelspec": {
   "display_name": "Python 3.7.4 64-bit",
   "language": "python",
   "name": "python3"
  },
  "language_info": {
   "codemirror_mode": {
    "name": "ipython",
    "version": 3
   },
   "file_extension": ".py",
   "mimetype": "text/x-python",
   "name": "python",
   "nbconvert_exporter": "python",
   "pygments_lexer": "ipython3",
   "version": "3.7.4"
  },
  "orig_nbformat": 4,
  "vscode": {
   "interpreter": {
    "hash": "aee8b7b246df8f9039afb4144a1f6fd8d2ca17a180786b69acc140d282b71a49"
   }
  }
 },
 "nbformat": 4,
 "nbformat_minor": 2
}
